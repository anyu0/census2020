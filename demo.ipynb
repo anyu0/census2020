{
 "cells": [
  {
   "cell_type": "markdown",
   "metadata": {},
   "source": [
    "# Iterative Proportional Fitting Code Demo\n"
   ]
  },
  {
   "cell_type": "markdown",
   "metadata": {},
   "source": [
    "Code from https://github.com/Dirguis/ipfn (IPFN package for Python)."
   ]
  },
  {
   "cell_type": "code",
   "execution_count": 227,
   "metadata": {},
   "outputs": [],
   "source": [
    "from ipfn import ipfn\n",
    "import numpy as np\n",
    "import pandas as pd"
   ]
  },
  {
   "cell_type": "markdown",
   "metadata": {},
   "source": [
    "### Input Description"
   ]
  },
  {
   "cell_type": "markdown",
   "metadata": {},
   "source": [
    "Variable      | Description   | Type\n",
    "------------- | ------------- | -------------\n",
    "m  | Original matrix on which to perform IPF, initialize all cells | Numpy matrix\n",
    "Marginals  | Target sums when aggreating along specified axis | List of Numpy arrays\n",
    "Dimensions  | Axes along which to sum to get marginals | List of lists of integers"
   ]
  },
  {
   "cell_type": "markdown",
   "metadata": {},
   "source": [
    "### Import Census Data"
   ]
  },
  {
   "cell_type": "code",
   "execution_count": 228,
   "metadata": {},
   "outputs": [
    {
     "data": {
      "text/html": [
       "<div>\n",
       "<style scoped>\n",
       "    .dataframe tbody tr th:only-of-type {\n",
       "        vertical-align: middle;\n",
       "    }\n",
       "\n",
       "    .dataframe tbody tr th {\n",
       "        vertical-align: top;\n",
       "    }\n",
       "\n",
       "    .dataframe thead th {\n",
       "        text-align: right;\n",
       "    }\n",
       "</style>\n",
       "<table border=\"1\" class=\"dataframe\">\n",
       "  <thead>\n",
       "    <tr style=\"text-align: right;\">\n",
       "      <th></th>\n",
       "      <th>Tract</th>\n",
       "      <th>Neighborhood</th>\n",
       "      <th>Tot_Population_CEN_2010</th>\n",
       "      <th>Pop_under_5_CEN_2010</th>\n",
       "      <th>Pop_5_17_CEN_2010</th>\n",
       "      <th>Pop_18_24_CEN_2010</th>\n",
       "      <th>Pop_25_44_CEN_2010</th>\n",
       "      <th>Pop_45_64_CEN_2010</th>\n",
       "      <th>Pop_65plus_CEN_2010</th>\n",
       "      <th>Hispanic_CEN_2010</th>\n",
       "      <th>NH_White_alone_CEN_2010</th>\n",
       "      <th>NH_Blk_alone_CEN_2010</th>\n",
       "      <th>NH_AIAN_alone_CEN_2010</th>\n",
       "      <th>NH_Asian_alone_CEN_2010</th>\n",
       "      <th>NH_NHOPI_alone_CEN_2010</th>\n",
       "      <th>NH_SOR_alone_CEN_2010</th>\n",
       "      <th>Pop_Multiple</th>\n",
       "      <th>Renter_Occp_HU_CEN_2010</th>\n",
       "      <th>Owner_Occp_HU_CEN_2010</th>\n",
       "    </tr>\n",
       "  </thead>\n",
       "  <tbody>\n",
       "    <tr>\n",
       "      <th>0</th>\n",
       "      <td>19701</td>\n",
       "      <td>Morningside Heights</td>\n",
       "      <td>641</td>\n",
       "      <td>42</td>\n",
       "      <td>59</td>\n",
       "      <td>58</td>\n",
       "      <td>331</td>\n",
       "      <td>116</td>\n",
       "      <td>35</td>\n",
       "      <td>90</td>\n",
       "      <td>331</td>\n",
       "      <td>102</td>\n",
       "      <td>2</td>\n",
       "      <td>100</td>\n",
       "      <td>0</td>\n",
       "      <td>4</td>\n",
       "      <td>12</td>\n",
       "      <td>641</td>\n",
       "      <td>0</td>\n",
       "    </tr>\n",
       "    <tr>\n",
       "      <th>1</th>\n",
       "      <td>19900</td>\n",
       "      <td>Morningside Heights</td>\n",
       "      <td>10064</td>\n",
       "      <td>316</td>\n",
       "      <td>660</td>\n",
       "      <td>2974</td>\n",
       "      <td>3105</td>\n",
       "      <td>1711</td>\n",
       "      <td>1298</td>\n",
       "      <td>1315</td>\n",
       "      <td>6001</td>\n",
       "      <td>655</td>\n",
       "      <td>12</td>\n",
       "      <td>1692</td>\n",
       "      <td>7</td>\n",
       "      <td>25</td>\n",
       "      <td>357</td>\n",
       "      <td>7392</td>\n",
       "      <td>2672</td>\n",
       "    </tr>\n",
       "    <tr>\n",
       "      <th>2</th>\n",
       "      <td>20101</td>\n",
       "      <td>Morningside Heights</td>\n",
       "      <td>1731</td>\n",
       "      <td>36</td>\n",
       "      <td>54</td>\n",
       "      <td>1153</td>\n",
       "      <td>269</td>\n",
       "      <td>139</td>\n",
       "      <td>80</td>\n",
       "      <td>211</td>\n",
       "      <td>907</td>\n",
       "      <td>143</td>\n",
       "      <td>4</td>\n",
       "      <td>382</td>\n",
       "      <td>2</td>\n",
       "      <td>7</td>\n",
       "      <td>75</td>\n",
       "      <td>1477</td>\n",
       "      <td>254</td>\n",
       "    </tr>\n",
       "    <tr>\n",
       "      <th>3</th>\n",
       "      <td>20300</td>\n",
       "      <td>Morningside Heights</td>\n",
       "      <td>3633</td>\n",
       "      <td>62</td>\n",
       "      <td>90</td>\n",
       "      <td>2210</td>\n",
       "      <td>1076</td>\n",
       "      <td>120</td>\n",
       "      <td>75</td>\n",
       "      <td>512</td>\n",
       "      <td>1713</td>\n",
       "      <td>354</td>\n",
       "      <td>6</td>\n",
       "      <td>877</td>\n",
       "      <td>3</td>\n",
       "      <td>9</td>\n",
       "      <td>159</td>\n",
       "      <td>3502</td>\n",
       "      <td>131</td>\n",
       "    </tr>\n",
       "    <tr>\n",
       "      <th>4</th>\n",
       "      <td>20500</td>\n",
       "      <td>Morningside Heights</td>\n",
       "      <td>5322</td>\n",
       "      <td>173</td>\n",
       "      <td>305</td>\n",
       "      <td>2419</td>\n",
       "      <td>1006</td>\n",
       "      <td>879</td>\n",
       "      <td>540</td>\n",
       "      <td>529</td>\n",
       "      <td>3428</td>\n",
       "      <td>347</td>\n",
       "      <td>11</td>\n",
       "      <td>798</td>\n",
       "      <td>4</td>\n",
       "      <td>32</td>\n",
       "      <td>173</td>\n",
       "      <td>4348</td>\n",
       "      <td>974</td>\n",
       "    </tr>\n",
       "    <tr>\n",
       "      <th>5</th>\n",
       "      <td>20701</td>\n",
       "      <td>Morningside Heights</td>\n",
       "      <td>3329</td>\n",
       "      <td>113</td>\n",
       "      <td>107</td>\n",
       "      <td>760</td>\n",
       "      <td>1765</td>\n",
       "      <td>375</td>\n",
       "      <td>209</td>\n",
       "      <td>342</td>\n",
       "      <td>2015</td>\n",
       "      <td>181</td>\n",
       "      <td>4</td>\n",
       "      <td>659</td>\n",
       "      <td>3</td>\n",
       "      <td>15</td>\n",
       "      <td>110</td>\n",
       "      <td>3191</td>\n",
       "      <td>138</td>\n",
       "    </tr>\n",
       "    <tr>\n",
       "      <th>6</th>\n",
       "      <td>20901</td>\n",
       "      <td>Morningside Heights</td>\n",
       "      <td>3673</td>\n",
       "      <td>212</td>\n",
       "      <td>692</td>\n",
       "      <td>455</td>\n",
       "      <td>931</td>\n",
       "      <td>857</td>\n",
       "      <td>526</td>\n",
       "      <td>1632</td>\n",
       "      <td>164</td>\n",
       "      <td>1664</td>\n",
       "      <td>4</td>\n",
       "      <td>127</td>\n",
       "      <td>1</td>\n",
       "      <td>13</td>\n",
       "      <td>68</td>\n",
       "      <td>3499</td>\n",
       "      <td>174</td>\n",
       "    </tr>\n",
       "    <tr>\n",
       "      <th>7</th>\n",
       "      <td>21100</td>\n",
       "      <td>Morningside Heights</td>\n",
       "      <td>10330</td>\n",
       "      <td>430</td>\n",
       "      <td>1084</td>\n",
       "      <td>1483</td>\n",
       "      <td>3669</td>\n",
       "      <td>2275</td>\n",
       "      <td>1389</td>\n",
       "      <td>2734</td>\n",
       "      <td>3829</td>\n",
       "      <td>2099</td>\n",
       "      <td>35</td>\n",
       "      <td>1334</td>\n",
       "      <td>2</td>\n",
       "      <td>36</td>\n",
       "      <td>261</td>\n",
       "      <td>7645</td>\n",
       "      <td>2685</td>\n",
       "    </tr>\n",
       "  </tbody>\n",
       "</table>\n",
       "</div>"
      ],
      "text/plain": [
       "   Tract         Neighborhood  Tot_Population_CEN_2010  Pop_under_5_CEN_2010  \\\n",
       "0  19701  Morningside Heights                      641                    42   \n",
       "1  19900  Morningside Heights                    10064                   316   \n",
       "2  20101  Morningside Heights                     1731                    36   \n",
       "3  20300  Morningside Heights                     3633                    62   \n",
       "4  20500  Morningside Heights                     5322                   173   \n",
       "5  20701  Morningside Heights                     3329                   113   \n",
       "6  20901  Morningside Heights                     3673                   212   \n",
       "7  21100  Morningside Heights                    10330                   430   \n",
       "\n",
       "   Pop_5_17_CEN_2010  Pop_18_24_CEN_2010  Pop_25_44_CEN_2010  \\\n",
       "0                 59                  58                 331   \n",
       "1                660                2974                3105   \n",
       "2                 54                1153                 269   \n",
       "3                 90                2210                1076   \n",
       "4                305                2419                1006   \n",
       "5                107                 760                1765   \n",
       "6                692                 455                 931   \n",
       "7               1084                1483                3669   \n",
       "\n",
       "   Pop_45_64_CEN_2010  Pop_65plus_CEN_2010  Hispanic_CEN_2010  \\\n",
       "0                 116                   35                 90   \n",
       "1                1711                 1298               1315   \n",
       "2                 139                   80                211   \n",
       "3                 120                   75                512   \n",
       "4                 879                  540                529   \n",
       "5                 375                  209                342   \n",
       "6                 857                  526               1632   \n",
       "7                2275                 1389               2734   \n",
       "\n",
       "   NH_White_alone_CEN_2010  NH_Blk_alone_CEN_2010  NH_AIAN_alone_CEN_2010  \\\n",
       "0                      331                    102                       2   \n",
       "1                     6001                    655                      12   \n",
       "2                      907                    143                       4   \n",
       "3                     1713                    354                       6   \n",
       "4                     3428                    347                      11   \n",
       "5                     2015                    181                       4   \n",
       "6                      164                   1664                       4   \n",
       "7                     3829                   2099                      35   \n",
       "\n",
       "   NH_Asian_alone_CEN_2010  NH_NHOPI_alone_CEN_2010  NH_SOR_alone_CEN_2010  \\\n",
       "0                      100                        0                      4   \n",
       "1                     1692                        7                     25   \n",
       "2                      382                        2                      7   \n",
       "3                      877                        3                      9   \n",
       "4                      798                        4                     32   \n",
       "5                      659                        3                     15   \n",
       "6                      127                        1                     13   \n",
       "7                     1334                        2                     36   \n",
       "\n",
       "   Pop_Multiple  Renter_Occp_HU_CEN_2010  Owner_Occp_HU_CEN_2010  \n",
       "0            12                      641                       0  \n",
       "1           357                     7392                    2672  \n",
       "2            75                     1477                     254  \n",
       "3           159                     3502                     131  \n",
       "4           173                     4348                     974  \n",
       "5           110                     3191                     138  \n",
       "6            68                     3499                     174  \n",
       "7           261                     7645                    2685  "
      ]
     },
     "execution_count": 228,
     "metadata": {},
     "output_type": "execute_result"
    }
   ],
   "source": [
    "# excel sheet preselected for age, race, and renter/owner and including only Morningside Heights\n",
    "census_data_selected = pd.read_excel('planning_database_NYC_tracts_numbers.xlsx')\n",
    "census_data_selected"
   ]
  },
  {
   "cell_type": "code",
   "execution_count": 229,
   "metadata": {},
   "outputs": [
    {
     "data": {
      "text/plain": [
       "0      641\n",
       "1    10064\n",
       "2     1731\n",
       "3     3633\n",
       "4     5322\n",
       "5     3329\n",
       "6     3673\n",
       "7    10330\n",
       "Name: Tot_Population_CEN_2010, dtype: int64"
      ]
     },
     "execution_count": 229,
     "metadata": {},
     "output_type": "execute_result"
    }
   ],
   "source": [
    "# total population per tract\n",
    "df_tot = census_data_selected['Tot_Population_CEN_2010']\n",
    "df_tot"
   ]
  },
  {
   "cell_type": "code",
   "execution_count": 230,
   "metadata": {},
   "outputs": [
    {
     "data": {
      "text/html": [
       "<div>\n",
       "<style scoped>\n",
       "    .dataframe tbody tr th:only-of-type {\n",
       "        vertical-align: middle;\n",
       "    }\n",
       "\n",
       "    .dataframe tbody tr th {\n",
       "        vertical-align: top;\n",
       "    }\n",
       "\n",
       "    .dataframe thead th {\n",
       "        text-align: right;\n",
       "    }\n",
       "</style>\n",
       "<table border=\"1\" class=\"dataframe\">\n",
       "  <thead>\n",
       "    <tr style=\"text-align: right;\">\n",
       "      <th></th>\n",
       "      <th>Renter_Occp_HU_CEN_2010</th>\n",
       "      <th>Owner_Occp_HU_CEN_2010</th>\n",
       "    </tr>\n",
       "  </thead>\n",
       "  <tbody>\n",
       "    <tr>\n",
       "      <th>0</th>\n",
       "      <td>641</td>\n",
       "      <td>0</td>\n",
       "    </tr>\n",
       "    <tr>\n",
       "      <th>1</th>\n",
       "      <td>7392</td>\n",
       "      <td>2672</td>\n",
       "    </tr>\n",
       "    <tr>\n",
       "      <th>2</th>\n",
       "      <td>1477</td>\n",
       "      <td>254</td>\n",
       "    </tr>\n",
       "    <tr>\n",
       "      <th>3</th>\n",
       "      <td>3502</td>\n",
       "      <td>131</td>\n",
       "    </tr>\n",
       "    <tr>\n",
       "      <th>4</th>\n",
       "      <td>4348</td>\n",
       "      <td>974</td>\n",
       "    </tr>\n",
       "    <tr>\n",
       "      <th>5</th>\n",
       "      <td>3191</td>\n",
       "      <td>138</td>\n",
       "    </tr>\n",
       "    <tr>\n",
       "      <th>6</th>\n",
       "      <td>3499</td>\n",
       "      <td>174</td>\n",
       "    </tr>\n",
       "    <tr>\n",
       "      <th>7</th>\n",
       "      <td>7645</td>\n",
       "      <td>2685</td>\n",
       "    </tr>\n",
       "  </tbody>\n",
       "</table>\n",
       "</div>"
      ],
      "text/plain": [
       "   Renter_Occp_HU_CEN_2010  Owner_Occp_HU_CEN_2010\n",
       "0                      641                       0\n",
       "1                     7392                    2672\n",
       "2                     1477                     254\n",
       "3                     3502                     131\n",
       "4                     4348                     974\n",
       "5                     3191                     138\n",
       "6                     3499                     174\n",
       "7                     7645                    2685"
      ]
     },
     "execution_count": 230,
     "metadata": {},
     "output_type": "execute_result"
    }
   ],
   "source": [
    "# renter owner marginals per tract\n",
    "df_rent = census_data_selected[['Renter_Occp_HU_CEN_2010', 'Owner_Occp_HU_CEN_2010']]\n",
    "df_rent"
   ]
  },
  {
   "cell_type": "code",
   "execution_count": 231,
   "metadata": {},
   "outputs": [
    {
     "data": {
      "text/html": [
       "<div>\n",
       "<style scoped>\n",
       "    .dataframe tbody tr th:only-of-type {\n",
       "        vertical-align: middle;\n",
       "    }\n",
       "\n",
       "    .dataframe tbody tr th {\n",
       "        vertical-align: top;\n",
       "    }\n",
       "\n",
       "    .dataframe thead th {\n",
       "        text-align: right;\n",
       "    }\n",
       "</style>\n",
       "<table border=\"1\" class=\"dataframe\">\n",
       "  <thead>\n",
       "    <tr style=\"text-align: right;\">\n",
       "      <th></th>\n",
       "      <th>Hispanic_CEN_2010</th>\n",
       "      <th>NH_White_alone_CEN_2010</th>\n",
       "      <th>NH_Blk_alone_CEN_2010</th>\n",
       "      <th>NH_AIAN_alone_CEN_2010</th>\n",
       "      <th>NH_Asian_alone_CEN_2010</th>\n",
       "      <th>NH_NHOPI_alone_CEN_2010</th>\n",
       "      <th>NH_SOR_alone_CEN_2010</th>\n",
       "      <th>Pop_Multiple</th>\n",
       "    </tr>\n",
       "  </thead>\n",
       "  <tbody>\n",
       "    <tr>\n",
       "      <th>0</th>\n",
       "      <td>90</td>\n",
       "      <td>331</td>\n",
       "      <td>102</td>\n",
       "      <td>2</td>\n",
       "      <td>100</td>\n",
       "      <td>0</td>\n",
       "      <td>4</td>\n",
       "      <td>12</td>\n",
       "    </tr>\n",
       "    <tr>\n",
       "      <th>1</th>\n",
       "      <td>1315</td>\n",
       "      <td>6001</td>\n",
       "      <td>655</td>\n",
       "      <td>12</td>\n",
       "      <td>1692</td>\n",
       "      <td>7</td>\n",
       "      <td>25</td>\n",
       "      <td>357</td>\n",
       "    </tr>\n",
       "    <tr>\n",
       "      <th>2</th>\n",
       "      <td>211</td>\n",
       "      <td>907</td>\n",
       "      <td>143</td>\n",
       "      <td>4</td>\n",
       "      <td>382</td>\n",
       "      <td>2</td>\n",
       "      <td>7</td>\n",
       "      <td>75</td>\n",
       "    </tr>\n",
       "    <tr>\n",
       "      <th>3</th>\n",
       "      <td>512</td>\n",
       "      <td>1713</td>\n",
       "      <td>354</td>\n",
       "      <td>6</td>\n",
       "      <td>877</td>\n",
       "      <td>3</td>\n",
       "      <td>9</td>\n",
       "      <td>159</td>\n",
       "    </tr>\n",
       "    <tr>\n",
       "      <th>4</th>\n",
       "      <td>529</td>\n",
       "      <td>3428</td>\n",
       "      <td>347</td>\n",
       "      <td>11</td>\n",
       "      <td>798</td>\n",
       "      <td>4</td>\n",
       "      <td>32</td>\n",
       "      <td>173</td>\n",
       "    </tr>\n",
       "    <tr>\n",
       "      <th>5</th>\n",
       "      <td>342</td>\n",
       "      <td>2015</td>\n",
       "      <td>181</td>\n",
       "      <td>4</td>\n",
       "      <td>659</td>\n",
       "      <td>3</td>\n",
       "      <td>15</td>\n",
       "      <td>110</td>\n",
       "    </tr>\n",
       "    <tr>\n",
       "      <th>6</th>\n",
       "      <td>1632</td>\n",
       "      <td>164</td>\n",
       "      <td>1664</td>\n",
       "      <td>4</td>\n",
       "      <td>127</td>\n",
       "      <td>1</td>\n",
       "      <td>13</td>\n",
       "      <td>68</td>\n",
       "    </tr>\n",
       "    <tr>\n",
       "      <th>7</th>\n",
       "      <td>2734</td>\n",
       "      <td>3829</td>\n",
       "      <td>2099</td>\n",
       "      <td>35</td>\n",
       "      <td>1334</td>\n",
       "      <td>2</td>\n",
       "      <td>36</td>\n",
       "      <td>261</td>\n",
       "    </tr>\n",
       "  </tbody>\n",
       "</table>\n",
       "</div>"
      ],
      "text/plain": [
       "   Hispanic_CEN_2010  NH_White_alone_CEN_2010  NH_Blk_alone_CEN_2010  \\\n",
       "0                 90                      331                    102   \n",
       "1               1315                     6001                    655   \n",
       "2                211                      907                    143   \n",
       "3                512                     1713                    354   \n",
       "4                529                     3428                    347   \n",
       "5                342                     2015                    181   \n",
       "6               1632                      164                   1664   \n",
       "7               2734                     3829                   2099   \n",
       "\n",
       "   NH_AIAN_alone_CEN_2010  NH_Asian_alone_CEN_2010  NH_NHOPI_alone_CEN_2010  \\\n",
       "0                       2                      100                        0   \n",
       "1                      12                     1692                        7   \n",
       "2                       4                      382                        2   \n",
       "3                       6                      877                        3   \n",
       "4                      11                      798                        4   \n",
       "5                       4                      659                        3   \n",
       "6                       4                      127                        1   \n",
       "7                      35                     1334                        2   \n",
       "\n",
       "   NH_SOR_alone_CEN_2010  Pop_Multiple  \n",
       "0                      4            12  \n",
       "1                     25           357  \n",
       "2                      7            75  \n",
       "3                      9           159  \n",
       "4                     32           173  \n",
       "5                     15           110  \n",
       "6                     13            68  \n",
       "7                     36           261  "
      ]
     },
     "execution_count": 231,
     "metadata": {},
     "output_type": "execute_result"
    }
   ],
   "source": [
    "# race marginals per tract\n",
    "df_race = census_data_selected[['Hispanic_CEN_2010','NH_White_alone_CEN_2010','NH_Blk_alone_CEN_2010','NH_AIAN_alone_CEN_2010','NH_Asian_alone_CEN_2010','NH_NHOPI_alone_CEN_2010','NH_SOR_alone_CEN_2010', 'Pop_Multiple']]\n",
    "df_race"
   ]
  },
  {
   "cell_type": "markdown",
   "metadata": {},
   "source": [
    "### Initialize Original Matrix"
   ]
  },
  {
   "cell_type": "code",
   "execution_count": 232,
   "metadata": {},
   "outputs": [],
   "source": [
    "m = np.ones((len(df_race), len(df_race.columns), 2))"
   ]
  },
  {
   "cell_type": "markdown",
   "metadata": {},
   "source": [
    "### Define Marginals and Corresponding Dimensions"
   ]
  },
  {
   "cell_type": "code",
   "execution_count": 233,
   "metadata": {},
   "outputs": [],
   "source": [
    "xipp = np.array(df_tot)\n",
    "xijp = np.array(df_race)\n",
    "xipk = np.array(df_rent)\n",
    "xpjp = xijp.sum(axis=0)\n",
    "xppk = xipk.sum(axis=0)"
   ]
  },
  {
   "cell_type": "code",
   "execution_count": 234,
   "metadata": {},
   "outputs": [],
   "source": [
    "aggregates = [xipp, xpjp, xppk, xijp, xipk]\n",
    "dimensions = [[0], [1], [2], [0, 1], [0, 2]]"
   ]
  },
  {
   "cell_type": "markdown",
   "metadata": {},
   "source": [
    "### Run IPF"
   ]
  },
  {
   "cell_type": "code",
   "execution_count": 235,
   "metadata": {},
   "outputs": [
    {
     "name": "stderr",
     "output_type": "stream",
     "text": [
      "/Users/noniethomas/Library/Python/3.7/lib/python/site-packages/ipfn/ipfn.py:129: RuntimeWarning: invalid value encountered in double_scalars\n",
      "  if abs(m_ijk / ori_ijk - 1) > max_conv:\n"
     ]
    }
   ],
   "source": [
    "IPF = ipfn.ipfn(m, aggregates, dimensions)\n",
    "M = IPF.iteration()\n",
    "M = np.array(M)"
   ]
  },
  {
   "cell_type": "markdown",
   "metadata": {},
   "source": [
    "### Error Analysis: Compare Actual Marginal to Desired"
   ]
  },
  {
   "cell_type": "code",
   "execution_count": 236,
   "metadata": {},
   "outputs": [
    {
     "data": {
      "text/plain": [
       "0"
      ]
     },
     "execution_count": 236,
     "metadata": {},
     "output_type": "execute_result"
    }
   ],
   "source": [
    "error_count = 0\n",
    "tolerance = 1e-12\n",
    "\n",
    "for i in range(M.shape[0]):\n",
    "    if abs(M[i,:,:].sum() - xipp[i]) > tolerance:\n",
    "        error_count += 1\n",
    "    for j in range(M.shape[1]):\n",
    "        if abs(M[i, j, :].sum() - xijp[i, j]) > tolerance:\n",
    "            error_count += 1\n",
    "    for k in range(M.shape[2]):\n",
    "        if abs(M[i, :, k].sum() - xipk[i, k]) > tolerance:\n",
    "            error_count += 1\n",
    "for j in range(M.shape[1]):\n",
    "    if abs(M[:,j,:].sum() - xpjp[j]) > tolerance:\n",
    "        error_count += 1\n",
    "for k in range(M.shape[2]):\n",
    "    if abs(M[:,:,k].sum() - xppk[k]) > tolerance:\n",
    "        error_count += 1\n",
    "\n",
    "error_count"
   ]
  },
  {
   "cell_type": "markdown",
   "metadata": {},
   "source": [
    "### Experiment With Initial Values"
   ]
  },
  {
   "cell_type": "code",
   "execution_count": 237,
   "metadata": {},
   "outputs": [],
   "source": [
    "m_2 = np.zeros((len(df_race), len(df_race.columns), 2)) + 1e-8\n",
    "m_3 = np.zeros((len(df_race), len(df_race.columns), 2)) + 1e8"
   ]
  },
  {
   "cell_type": "code",
   "execution_count": 238,
   "metadata": {},
   "outputs": [
    {
     "name": "stderr",
     "output_type": "stream",
     "text": [
      "/Users/noniethomas/Library/Python/3.7/lib/python/site-packages/ipfn/ipfn.py:129: RuntimeWarning: invalid value encountered in double_scalars\n",
      "  if abs(m_ijk / ori_ijk - 1) > max_conv:\n"
     ]
    }
   ],
   "source": [
    "IPF_2 = ipfn.ipfn(m_2, aggregates, dimensions)\n",
    "IPF_3 = ipfn.ipfn(m_3, aggregates, dimensions)\n",
    "M_2 = IPF_2.iteration()\n",
    "M_3 = IPF_3.iteration()\n",
    "M_2 = np.array(M_2)\n",
    "M_3 = np.array(M_3)"
   ]
  },
  {
   "cell_type": "code",
   "execution_count": 239,
   "metadata": {
    "scrolled": true
   },
   "outputs": [
    {
     "name": "stdout",
     "output_type": "stream",
     "text": [
      "M_2 error count: 8\n",
      "Average M_2 error size 1.4072076837123859e-14\n",
      "M_3 error count: 0\n"
     ]
    }
   ],
   "source": [
    "tolerance = 1e-16\n",
    "M2_error_count = 0\n",
    "M2_error = []\n",
    "M3_error_count = 0\n",
    "M3_error = []\n",
    "\n",
    "for i in range(M.shape[0]):\n",
    "    for j in range(M.shape[1]):\n",
    "        for k in range(M.shape[2]):\n",
    "            if abs(M_2[i, j, k] - M[i, j, k]) > tolerance:\n",
    "                M2_error_count += 1\n",
    "                M2_error.append(abs(M_2[i, j, k] - M[i, j, k]))\n",
    "            if abs(M_3[i, j, k] - M[i, j, k]) > tolerance:\n",
    "                M3_error_count += 1\n",
    "                M3_error.append(abs(M_3[i, j, k] - M[i, j, k]))\n",
    "\n",
    "                \n",
    "print('M_2 error count: ' + str(M2_error_count))\n",
    "if M2_error_count != 0:\n",
    "    print('Average M_2 error size ' + str(np.mean(np.array(M2_error))))\n",
    "print('M_3 error count: ' + str(M3_error_count))\n",
    "if M3_error_count != 0:\n",
    "    print('Average M_3 error size ' + str(np.mean(np.array(M3_error))))"
   ]
  },
  {
   "cell_type": "markdown",
   "metadata": {},
   "source": [
    "### Example Tract"
   ]
  },
  {
   "cell_type": "code",
   "execution_count": 240,
   "metadata": {},
   "outputs": [
    {
     "data": {
      "text/plain": [
       "array([[1.80038706e+02, 7.73910456e+02, 1.22016753e+02, 3.41305604e+00,\n",
       "        3.25946852e+02, 1.70652802e+00, 5.97284806e+00, 6.39948007e+01],\n",
       "       [3.09612940e+01, 1.33089544e+02, 2.09832467e+01, 5.86943963e-01,\n",
       "        5.60531485e+01, 2.93471982e-01, 1.02715194e+00, 1.10051993e+01]])"
      ]
     },
     "execution_count": 240,
     "metadata": {},
     "output_type": "execute_result"
    }
   ],
   "source": [
    "tract3 = M[2]\n",
    "tract3.transpose()"
   ]
  }
 ],
 "metadata": {
  "kernelspec": {
   "display_name": "Python 3",
   "language": "python",
   "name": "python3"
  },
  "language_info": {
   "codemirror_mode": {
    "name": "ipython",
    "version": 3
   },
   "file_extension": ".py",
   "mimetype": "text/x-python",
   "name": "python",
   "nbconvert_exporter": "python",
   "pygments_lexer": "ipython3",
   "version": "3.7.0"
  }
 },
 "nbformat": 4,
 "nbformat_minor": 2
}
