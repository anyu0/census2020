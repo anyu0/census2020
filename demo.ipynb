{
 "cells": [
  {
   "cell_type": "markdown",
   "metadata": {},
   "source": [
    "# Iterative Proportional Fitting Code Demo\n"
   ]
  },
  {
   "cell_type": "markdown",
   "metadata": {},
   "source": [
    "Code from https://github.com/Dirguis/ipfn (IPFN package for Python)."
   ]
  },
  {
   "cell_type": "code",
   "execution_count": 5,
   "metadata": {},
   "outputs": [],
   "source": [
    "from ipfn import ipfn\n",
    "import numpy as np\n",
    "import pandas as pd\n",
    "census_data_pd = pd.read_excel('planning_database_NYC_tracts.xlsx')"
   ]
  },
  {
   "cell_type": "code",
   "execution_count": 6,
   "metadata": {},
   "outputs": [
    {
     "data": {
      "text/plain": [
       "0          Bronx County\n",
       "339        Kings County\n",
       "1100    New York County\n",
       "1388      Queens County\n",
       "2057    Richmond County\n",
       "Name: County_name, dtype: object"
      ]
     },
     "execution_count": 6,
     "metadata": {},
     "output_type": "execute_result"
    }
   ],
   "source": [
    "df = census_data_pd\n",
    "df['County_name'].drop_duplicates()"
   ]
  },
  {
   "cell_type": "code",
   "execution_count": 25,
   "metadata": {},
   "outputs": [],
   "source": [
    "df_nyc = df[df['County_name'].str.match('New York County')]\n",
    "df_msh = df[df['Neighborhood'].str.match('Morning')]"
   ]
  },
  {
   "cell_type": "code",
   "execution_count": 30,
   "metadata": {},
   "outputs": [
    {
     "data": {
      "text/html": [
       "<div>\n",
       "<style scoped>\n",
       "    .dataframe tbody tr th:only-of-type {\n",
       "        vertical-align: middle;\n",
       "    }\n",
       "\n",
       "    .dataframe tbody tr th {\n",
       "        vertical-align: top;\n",
       "    }\n",
       "\n",
       "    .dataframe thead th {\n",
       "        text-align: right;\n",
       "    }\n",
       "</style>\n",
       "<table border=\"1\" class=\"dataframe\">\n",
       "  <thead>\n",
       "    <tr style=\"text-align: right;\">\n",
       "      <th></th>\n",
       "      <th>Tot_Population_CEN_2010</th>\n",
       "    </tr>\n",
       "  </thead>\n",
       "  <tbody>\n",
       "    <tr>\n",
       "      <th>1303</th>\n",
       "      <td>641.0</td>\n",
       "    </tr>\n",
       "    <tr>\n",
       "      <th>1306</th>\n",
       "      <td>10064.0</td>\n",
       "    </tr>\n",
       "    <tr>\n",
       "      <th>1308</th>\n",
       "      <td>1731.0</td>\n",
       "    </tr>\n",
       "    <tr>\n",
       "      <th>1310</th>\n",
       "      <td>3633.0</td>\n",
       "    </tr>\n",
       "    <tr>\n",
       "      <th>1311</th>\n",
       "      <td>5322.0</td>\n",
       "    </tr>\n",
       "    <tr>\n",
       "      <th>1313</th>\n",
       "      <td>3329.0</td>\n",
       "    </tr>\n",
       "    <tr>\n",
       "      <th>1315</th>\n",
       "      <td>3673.0</td>\n",
       "    </tr>\n",
       "    <tr>\n",
       "      <th>1317</th>\n",
       "      <td>10330.0</td>\n",
       "    </tr>\n",
       "  </tbody>\n",
       "</table>\n",
       "</div>"
      ],
      "text/plain": [
       "      Tot_Population_CEN_2010\n",
       "1303                    641.0\n",
       "1306                  10064.0\n",
       "1308                   1731.0\n",
       "1310                   3633.0\n",
       "1311                   5322.0\n",
       "1313                   3329.0\n",
       "1315                   3673.0\n",
       "1317                  10330.0"
      ]
     },
     "execution_count": 30,
     "metadata": {},
     "output_type": "execute_result"
    }
   ],
   "source": [
    "df_msh_tot = df_msh.loc[:, df.columns.str.startswith('Tot_Population_CEN_2010')]\n",
    "df_msh_tot # total = 38723"
   ]
  },
  {
   "cell_type": "code",
   "execution_count": 105,
   "metadata": {},
   "outputs": [
    {
     "data": {
      "text/plain": [
       "array([[1.    , 0.    ],\n",
       "       [0.7345, 0.2655],\n",
       "       [0.8533, 0.1467],\n",
       "       [0.9639, 0.0361],\n",
       "       [0.8169, 0.1831],\n",
       "       [0.9584, 0.0416],\n",
       "       [0.9526, 0.0474],\n",
       "       [0.74  , 0.26  ]])"
      ]
     },
     "execution_count": 105,
     "metadata": {},
     "output_type": "execute_result"
    }
   ],
   "source": [
    "df_msh_rent = df_msh.loc[:, df.columns.str.startswith('pct_Renter_Occp_HU_CEN_2010')]\n",
    "df_msh_rent = df_msh_rent['pct_Renter_Occp_HU_CEN_2010'].apply(lambda num : num/100.0) \n",
    "msh_rent = np.column_stack([df_msh_rent, 1-df_msh_rent])\n",
    "msh_rent"
   ]
  },
  {
   "cell_type": "code",
   "execution_count": 35,
   "metadata": {},
   "outputs": [
    {
     "data": {
      "text/html": [
       "<div>\n",
       "<style scoped>\n",
       "    .dataframe tbody tr th:only-of-type {\n",
       "        vertical-align: middle;\n",
       "    }\n",
       "\n",
       "    .dataframe tbody tr th {\n",
       "        vertical-align: top;\n",
       "    }\n",
       "\n",
       "    .dataframe thead th {\n",
       "        text-align: right;\n",
       "    }\n",
       "</style>\n",
       "<table border=\"1\" class=\"dataframe\">\n",
       "  <thead>\n",
       "    <tr style=\"text-align: right;\">\n",
       "      <th></th>\n",
       "      <th>Hispanic_CEN_2010</th>\n",
       "      <th>NH_White_alone_CEN_2010</th>\n",
       "      <th>NH_Blk_alone_CEN_2010</th>\n",
       "      <th>NH_AIAN_alone_CEN_2010</th>\n",
       "      <th>NH_Asian_alone_CEN_2010</th>\n",
       "      <th>NH_NHOPI_alone_CEN_2010</th>\n",
       "      <th>NH_SOR_alone_CEN_2010</th>\n",
       "    </tr>\n",
       "  </thead>\n",
       "  <tbody>\n",
       "    <tr>\n",
       "      <th>1303</th>\n",
       "      <td>90.0</td>\n",
       "      <td>331.0</td>\n",
       "      <td>102.0</td>\n",
       "      <td>2.0</td>\n",
       "      <td>100.0</td>\n",
       "      <td>0.0</td>\n",
       "      <td>4.0</td>\n",
       "    </tr>\n",
       "    <tr>\n",
       "      <th>1306</th>\n",
       "      <td>1315.0</td>\n",
       "      <td>6001.0</td>\n",
       "      <td>655.0</td>\n",
       "      <td>12.0</td>\n",
       "      <td>1692.0</td>\n",
       "      <td>7.0</td>\n",
       "      <td>25.0</td>\n",
       "    </tr>\n",
       "    <tr>\n",
       "      <th>1308</th>\n",
       "      <td>211.0</td>\n",
       "      <td>907.0</td>\n",
       "      <td>143.0</td>\n",
       "      <td>4.0</td>\n",
       "      <td>382.0</td>\n",
       "      <td>2.0</td>\n",
       "      <td>7.0</td>\n",
       "    </tr>\n",
       "    <tr>\n",
       "      <th>1310</th>\n",
       "      <td>512.0</td>\n",
       "      <td>1713.0</td>\n",
       "      <td>354.0</td>\n",
       "      <td>6.0</td>\n",
       "      <td>877.0</td>\n",
       "      <td>3.0</td>\n",
       "      <td>9.0</td>\n",
       "    </tr>\n",
       "    <tr>\n",
       "      <th>1311</th>\n",
       "      <td>529.0</td>\n",
       "      <td>3428.0</td>\n",
       "      <td>347.0</td>\n",
       "      <td>11.0</td>\n",
       "      <td>798.0</td>\n",
       "      <td>4.0</td>\n",
       "      <td>32.0</td>\n",
       "    </tr>\n",
       "    <tr>\n",
       "      <th>1313</th>\n",
       "      <td>342.0</td>\n",
       "      <td>2015.0</td>\n",
       "      <td>181.0</td>\n",
       "      <td>4.0</td>\n",
       "      <td>659.0</td>\n",
       "      <td>3.0</td>\n",
       "      <td>15.0</td>\n",
       "    </tr>\n",
       "    <tr>\n",
       "      <th>1315</th>\n",
       "      <td>1632.0</td>\n",
       "      <td>164.0</td>\n",
       "      <td>1664.0</td>\n",
       "      <td>4.0</td>\n",
       "      <td>127.0</td>\n",
       "      <td>1.0</td>\n",
       "      <td>13.0</td>\n",
       "    </tr>\n",
       "    <tr>\n",
       "      <th>1317</th>\n",
       "      <td>2734.0</td>\n",
       "      <td>3829.0</td>\n",
       "      <td>2099.0</td>\n",
       "      <td>35.0</td>\n",
       "      <td>1334.0</td>\n",
       "      <td>2.0</td>\n",
       "      <td>36.0</td>\n",
       "    </tr>\n",
       "  </tbody>\n",
       "</table>\n",
       "</div>"
      ],
      "text/plain": [
       "      Hispanic_CEN_2010  NH_White_alone_CEN_2010  NH_Blk_alone_CEN_2010  \\\n",
       "1303               90.0                    331.0                  102.0   \n",
       "1306             1315.0                   6001.0                  655.0   \n",
       "1308              211.0                    907.0                  143.0   \n",
       "1310              512.0                   1713.0                  354.0   \n",
       "1311              529.0                   3428.0                  347.0   \n",
       "1313              342.0                   2015.0                  181.0   \n",
       "1315             1632.0                    164.0                 1664.0   \n",
       "1317             2734.0                   3829.0                 2099.0   \n",
       "\n",
       "      NH_AIAN_alone_CEN_2010  NH_Asian_alone_CEN_2010  \\\n",
       "1303                     2.0                    100.0   \n",
       "1306                    12.0                   1692.0   \n",
       "1308                     4.0                    382.0   \n",
       "1310                     6.0                    877.0   \n",
       "1311                    11.0                    798.0   \n",
       "1313                     4.0                    659.0   \n",
       "1315                     4.0                    127.0   \n",
       "1317                    35.0                   1334.0   \n",
       "\n",
       "      NH_NHOPI_alone_CEN_2010  NH_SOR_alone_CEN_2010  \n",
       "1303                      0.0                    4.0  \n",
       "1306                      7.0                   25.0  \n",
       "1308                      2.0                    7.0  \n",
       "1310                      3.0                    9.0  \n",
       "1311                      4.0                   32.0  \n",
       "1313                      3.0                   15.0  \n",
       "1315                      1.0                   13.0  \n",
       "1317                      2.0                   36.0  "
      ]
     },
     "execution_count": 35,
     "metadata": {},
     "output_type": "execute_result"
    }
   ],
   "source": [
    "df_msh_race = df_msh[['Hispanic_CEN_2010','NH_White_alone_CEN_2010','NH_Blk_alone_CEN_2010','NH_AIAN_alone_CEN_2010','NH_Asian_alone_CEN_2010','NH_NHOPI_alone_CEN_2010','NH_SOR_alone_CEN_2010']]\n",
    "df_msh_race"
   ]
  },
  {
   "cell_type": "code",
   "execution_count": 127,
   "metadata": {},
   "outputs": [
    {
     "data": {
      "text/plain": [
       "(8, 7, 2)"
      ]
     },
     "execution_count": 127,
     "metadata": {},
     "output_type": "execute_result"
    }
   ],
   "source": [
    "m = np.ones( (len(df_msh),len(df_msh_race.columns),2) )\n",
    "m.shape # track, race, rent"
   ]
  },
  {
   "cell_type": "code",
   "execution_count": 128,
   "metadata": {},
   "outputs": [],
   "source": [
    "xipp = np.array(df_msh_tot)\n",
    "xijp = np.array(df_msh_race)\n",
    "xipk = np.array(msh_rent)\n",
    "xpjp = xijp.sum(axis=0)\n",
    "xppk = xpjk.sum(axis=0)"
   ]
  },
  {
   "cell_type": "code",
   "execution_count": 129,
   "metadata": {},
   "outputs": [],
   "source": [
    "aggregates = [xipp, xpjp, xppk, xijp, xpjk]\n",
    "dimensions = [[0], [1], [2], [0, 1], [1, 2]]"
   ]
  },
  {
   "cell_type": "code",
   "execution_count": 130,
   "metadata": {},
   "outputs": [
    {
     "name": "stdout",
     "output_type": "stream",
     "text": [
      "ipfn converged: convergence_rate not updating or below rate_tolerance\n",
      "90.0\n",
      "0.012219959266802444\n"
     ]
    },
    {
     "name": "stderr",
     "output_type": "stream",
     "text": [
      "/usr/local/lib/python3.7/site-packages/ipfn/ipfn.py:129: RuntimeWarning: invalid value encountered in double_scalars\n",
      "  if abs(m_ijk / ori_ijk - 1) > max_conv:\n"
     ]
    }
   ],
   "source": [
    "IPF = ipfn.ipfn(m, aggregates, dimensions)\n",
    "m = IPF.iteration()\n",
    "print(xijp[0,0])\n",
    "print(m[0, 0, :].sum())"
   ]
  },
  {
   "cell_type": "code",
   "execution_count": null,
   "metadata": {},
   "outputs": [],
   "source": []
  }
 ],
 "metadata": {
  "kernelspec": {
   "display_name": "Python 3",
   "language": "python",
   "name": "python3"
  },
  "language_info": {
   "codemirror_mode": {
    "name": "ipython",
    "version": 3
   },
   "file_extension": ".py",
   "mimetype": "text/x-python",
   "name": "python",
   "nbconvert_exporter": "python",
   "pygments_lexer": "ipython3",
   "version": "3.7.4"
  }
 },
 "nbformat": 4,
 "nbformat_minor": 2
}
