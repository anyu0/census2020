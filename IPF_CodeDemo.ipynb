{
 "cells": [
  {
   "cell_type": "markdown",
   "metadata": {},
   "source": [
    "# Iterative Proportional Fitting Code Demo\n"
   ]
  },
  {
   "cell_type": "markdown",
   "metadata": {},
   "source": [
    "Code from https://github.com/Dirguis/ipfn (IPFN package for Python)."
   ]
  },
  {
   "cell_type": "code",
   "execution_count": 6,
   "metadata": {},
   "outputs": [],
   "source": [
    "from ipfn import ipfn\n",
    "import numpy as np\n",
    "import pandas as pd"
   ]
  },
  {
   "cell_type": "markdown",
   "metadata": {},
   "source": [
    "### Input Description"
   ]
  },
  {
   "cell_type": "markdown",
   "metadata": {},
   "source": [
    "Variable      | Description   | Type\n",
    "------------- | ------------- | -------------\n",
    "Original  | Matrix on which to perform IPF, initialize all cells to 1  | Numpy matrix (??? dimensions ???)\n",
    "Marginals  | Target sums when aggreating along specified axis (multiple axes???) | List of Numpy arrays\n",
    "Dimensions  | Axes along which to sum to get marginals | List of lists of integers"
   ]
  },
  {
   "cell_type": "markdown",
   "metadata": {},
   "source": [
    "### Import Census Data"
   ]
  },
  {
   "cell_type": "markdown",
   "metadata": {},
   "source": [
    "** Look over all columns: not sure if these are correct!!!!!!!"
   ]
  },
  {
   "cell_type": "code",
   "execution_count": 26,
   "metadata": {},
   "outputs": [],
   "source": [
    "census_data_pd = pd.read_excel('planning_database_NYC_tracts.xlsx'"
   ]
  },
  {
   "cell_type": "code",
   "execution_count": 154,
   "metadata": {},
   "outputs": [],
   "source": [
    "all_columns = census_data_pd.columns\n",
    "chosen_columns = list(filter(lambda x: ('CEN_2010' in x) & ('pct' not in x) , census_data_pd.columns))\n",
    "census_data_pd_reduced = census_data_pd[chosen_columns]\n",
    "census_data = np.array(census_data_pd_reduced)\n",
    "census_data[np.isnan(census_data)] = 0"
   ]
  },
  {
   "cell_type": "markdown",
   "metadata": {},
   "source": [
    "### Initialize Original Matrix"
   ]
  },
  {
   "cell_type": "code",
   "execution_count": 238,
   "metadata": {},
   "outputs": [],
   "source": [
    "# number of variables\n",
    "v = len(chosen_columns)\n",
    "# number of tracts\n",
    "t = len(census_data_pd) - 1"
   ]
  },
  {
   "cell_type": "code",
   "execution_count": 239,
   "metadata": {},
   "outputs": [],
   "source": [
    "# initialze all matrix cells to 1\n",
    "original = np.ones((t, v, v))\n",
    "\n",
    "for tract in range(len(original)):\n",
    "    for i in range(len(original[0])):\n",
    "        original[tract, i, i] = 0"
   ]
  },
  {
   "cell_type": "markdown",
   "metadata": {},
   "source": [
    "### Define Marginals and Corresponding Dimensions"
   ]
  },
  {
   "cell_type": "code",
   "execution_count": 240,
   "metadata": {},
   "outputs": [],
   "source": [
    "tract_sums = np.array(2 * census_data_pd['Tot_Population_CEN_2010'])"
   ]
  },
  {
   "cell_type": "code",
   "execution_count": 241,
   "metadata": {},
   "outputs": [],
   "source": [
    "chosen_variable_sums = np.array([census_data[i,:] for i in range(1,len(census_data))])"
   ]
  },
  {
   "cell_type": "code",
   "execution_count": 242,
   "metadata": {},
   "outputs": [],
   "source": [
    "marginals = [tract_sums, chosen_variable_sums, chosen_variable_sums]"
   ]
  },
  {
   "cell_type": "code",
   "execution_count": 243,
   "metadata": {},
   "outputs": [],
   "source": [
    "dimensions = [[0], [0, 1], [0, 2]]"
   ]
  },
  {
   "cell_type": "markdown",
   "metadata": {},
   "source": [
    "[0,1] dimension corresponds to sum of each row, each tract,\n",
    "m[i,j,:] where i is tract and j is row number\n",
    "so [t1r1, t1r2, ...],[t2r1, t2r2, ...]..."
   ]
  },
  {
   "cell_type": "markdown",
   "metadata": {},
   "source": [
    "***ADD sums for columns***"
   ]
  },
  {
   "cell_type": "markdown",
   "metadata": {},
   "source": [
    "### Run IPF Algorithm"
   ]
  },
  {
   "cell_type": "code",
   "execution_count": 244,
   "metadata": {},
   "outputs": [],
   "source": [
    "IPF = ipfn(original, marginals, dimensions)"
   ]
  },
  {
   "cell_type": "code",
   "execution_count": 245,
   "metadata": {},
   "outputs": [
    {
     "name": "stdout",
     "output_type": "stream",
     "text": [
      "ipfn converged: convergence_rate not updating or below rate_tolerance\n"
     ]
    }
   ],
   "source": [
    "original = IPF.iteration()"
   ]
  },
  {
   "cell_type": "markdown",
   "metadata": {},
   "source": [
    "### Check Sums"
   ]
  },
  {
   "cell_type": "code",
   "execution_count": 222,
   "metadata": {},
   "outputs": [],
   "source": [
    "count_wrong = 0\n",
    "count_total = 0\n",
    "tolerance = 0.1\n",
    "\n",
    "for tract in range(len(original)):\n",
    "    for var in range(len(original[0])):\n",
    "        count_total += 1\n",
    "        if abs(original[tract, var, :].sum() - chosen_variable_sums[tract, var]) > tolerance:\n",
    "            count_wrong += 1        \n",
    "        if abs(original[tract, :, var].sum() - chosen_variable_sums[tract, var]) > tolerance:\n",
    "            count_wrong += 1"
   ]
  },
  {
   "cell_type": "code",
   "execution_count": 223,
   "metadata": {},
   "outputs": [
    {
     "name": "stdout",
     "output_type": "stream",
     "text": [
      "108400\n"
     ]
    }
   ],
   "source": [
    "print(count_total)"
   ]
  },
  {
   "cell_type": "code",
   "execution_count": 224,
   "metadata": {},
   "outputs": [
    {
     "name": "stdout",
     "output_type": "stream",
     "text": [
      "2138\n"
     ]
    }
   ],
   "source": [
    "print(count_wrong)"
   ]
  },
  {
   "cell_type": "markdown",
   "metadata": {},
   "source": [
    "# only about 1.9% are off"
   ]
  },
  {
   "cell_type": "code",
   "execution_count": 246,
   "metadata": {},
   "outputs": [
    {
     "data": {
      "text/plain": [
       "42599.3"
      ]
     },
     "execution_count": 246,
     "metadata": {},
     "output_type": "execute_result"
    }
   ],
   "source": [
    "original[0].sum()"
   ]
  },
  {
   "cell_type": "code",
   "execution_count": 247,
   "metadata": {},
   "outputs": [
    {
     "data": {
      "text/plain": [
       "22182.0"
      ]
     },
     "execution_count": 247,
     "metadata": {},
     "output_type": "execute_result"
    }
   ],
   "source": [
    "tract_sums[0]"
   ]
  },
  {
   "cell_type": "code",
   "execution_count": 258,
   "metadata": {},
   "outputs": [],
   "source": [
    "no = 0\n",
    "tot = 0\n",
    "for tract in range(len(original)):\n",
    "    for var in range(len(original[0])):\n",
    "        tot += 1\n",
    "        if original[tract, var, var] != 0.0:\n",
    "            no += 1"
   ]
  },
  {
   "cell_type": "code",
   "execution_count": 259,
   "metadata": {},
   "outputs": [
    {
     "data": {
      "text/plain": [
       "50"
      ]
     },
     "execution_count": 259,
     "metadata": {},
     "output_type": "execute_result"
    }
   ],
   "source": [
    "no"
   ]
  },
  {
   "cell_type": "code",
   "execution_count": 260,
   "metadata": {},
   "outputs": [
    {
     "data": {
      "text/plain": [
       "108400"
      ]
     },
     "execution_count": 260,
     "metadata": {},
     "output_type": "execute_result"
    }
   ],
   "source": [
    "tot"
   ]
  },
  {
   "cell_type": "markdown",
   "metadata": {},
   "source": [
    "# PROBLEMS!!!!!"
   ]
  },
  {
   "cell_type": "code",
   "execution_count": null,
   "metadata": {},
   "outputs": [],
   "source": []
  }
 ],
 "metadata": {
  "kernelspec": {
   "display_name": "Python 2",
   "language": "python",
   "name": "python2"
  },
  "language_info": {
   "codemirror_mode": {
    "name": "ipython",
    "version": 2
   },
   "file_extension": ".py",
   "mimetype": "text/x-python",
   "name": "python",
   "nbconvert_exporter": "python",
   "pygments_lexer": "ipython2",
   "version": "2.7.14"
  }
 },
 "nbformat": 4,
 "nbformat_minor": 2
}
